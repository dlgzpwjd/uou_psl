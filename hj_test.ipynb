{
 "cells": [
  {
   "cell_type": "code",
   "execution_count": null,
   "metadata": {},
   "outputs": [],
   "source": [
    "import pandas as pd\n",
    "import matplotlib as mpl\n",
    "import numpy as np\n",
    "import matplotlib.pyplot as plt"
   ]
  },
  {
   "cell_type": "code",
   "execution_count": null,
   "metadata": {},
   "outputs": [],
   "source": [
    "data_g=pd.read_excel('C:/Users/user/Desktop/psl/onlyground_1073.xls')\n",
    "data_l=pd.read_excel('C:/Users/user/Desktop/psl/onlyline_1000.xls')\n",
    "data_n=pd.read_excel('C:/Users/user/Desktop/psl/onlynormal_180.xls')\n",
    "\n",
    "G=data_g.drop(['target','type','m'],axis=1)\n",
    "L=data_l.drop(['target','type','m'],axis=1)\n",
    "N=data_n.drop(['target','type','m'],axis=1)\n",
    "\n",
    "print(G.shape)\n",
    "print(L.shape)\n",
    "print(N.shape)"
   ]
  },
  {
   "cell_type": "code",
   "execution_count": null,
   "metadata": {},
   "outputs": [],
   "source": []
  }
 ],
 "metadata": {
  "language_info": {
   "name": "python"
  },
  "orig_nbformat": 4
 },
 "nbformat": 4,
 "nbformat_minor": 2
}
