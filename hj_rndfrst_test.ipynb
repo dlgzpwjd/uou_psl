{
 "cells": [
  {
   "cell_type": "code",
   "execution_count": 2,
   "metadata": {},
   "outputs": [],
   "source": [
    "import pandas as pd\n",
    "import numpy as np\n",
    "from sklearn.model_selection import train_test_split\n",
    "from sklearn.preprocessing import StandardScaler\n",
    "\n",
    "from sklearn.ensemble import RandomForestClassifier\n",
    "\n",
    "from sklearn.metrics import accuracy_score\n",
    "from sklearn.metrics import confusion_matrix\n",
    "from sklearn.metrics import classification_report"
   ]
  },
  {
   "cell_type": "code",
   "execution_count": 48,
   "metadata": {},
   "outputs": [
    {
     "name": "stdout",
     "output_type": "stream",
     "text": [
      "(1680, 48)\n",
      "(1680, 1)\n",
      "(420, 48)\n",
      "(420, 1)\n"
     ]
    }
   ],
   "source": [
    "data_g=pd.read_excel('C:/Users/user/Desktop/psl/fault_feature_jirak.xls')\n",
    "data_l=pd.read_excel('C:/Users/user/Desktop/psl/fault_feature_seongan.xls')\n",
    "data_n=pd.read_excel('C:/Users/user/Desktop/psl/feature_normal.xls')\n",
    "\n",
    "data = pd.concat([data_g,data_l,data_n])\n",
    "\n",
    "target = []\n",
    "\n",
    "for idx, row in data.iterrows():\n",
    "    if row['type'] == 0:\n",
    "        target.append(0)\n",
    "    elif row['type'] == 1 or row['type'] == 2 or row['type'] == 3:\n",
    "        target.append(1)\n",
    "    else:\n",
    "        target.append(2)\n",
    "\n",
    "data['type'] = target\n",
    "\n",
    "X1 = data.filter(['target', 'type','m'])\n",
    "X=data.drop(['target', 'type','m'],axis=1)\n",
    "y=X1.filter(['type'])\n",
    "\n",
    "X_tn, X_te, y_tn, y_te=train_test_split(X,y,test_size=0.2,shuffle=True, random_state=1)\n",
    "print(X_tn.shape)\n",
    "print(y_tn.shape)\n",
    "print(X_te.shape)\n",
    "print(y_te.shape)"
   ]
  },
  {
   "cell_type": "code",
   "execution_count": 49,
   "metadata": {},
   "outputs": [
    {
     "name": "stderr",
     "output_type": "stream",
     "text": [
      "C:\\Users\\user\\AppData\\Local\\Temp\\ipykernel_22076\\3944578246.py:4: DataConversionWarning: A column-vector y was passed when a 1d array was expected. Please change the shape of y to (n_samples,), for example using ravel().\n",
      "  clf_rf.fit(X_tn, y_tn)\n"
     ]
    },
    {
     "name": "stdout",
     "output_type": "stream",
     "text": [
      "[0 2 1 1 0 2 0 0 2 1 2 2 2 1 2 0 0 1 2 2 0 1 1 2 2 0 1 1 0 0 1 2 0 1 1 2 0\n",
      " 0 0 0 1 1 2 0 2 1 1 0 2 2 2 0 1 0 0 2 1 0 1 0 2 2 0 1 2 0 0 0 0 2 0 1 0 0\n",
      " 0 0 1 2 2 0 0 0 0 0 1 2 2 2 0 0 0 0 1 2 0 0 1 0 0 2 1 2 0 1 1 0 0 0 1 0 0\n",
      " 1 2 1 1 2 1 2 2 2 0 1 0 0 0 1 2 0 0 2 0 2 2 0 1 1 0 2 0 2 2 1 1 1 2 0 1 1\n",
      " 2 2 0 2 0 1 1 1 2 2 1 0 1 1 0 2 0 2 0 2 2 2 0 0 2 1 1 2 1 0 1 0 0 1 0 1 1\n",
      " 1 2 1 0 2 2 0 2 1 0 1 1 2 1 2 0 1 2 1 2 2 2 2 0 0 0 2 0 2 0 0 2 2 0 2 1 0\n",
      " 2 0 0 0 1 2 0 0 2 0 2 2 0 0 0 1 2 0 1 0 1 0 0 2 2 2 1 2 2 2 2 0 2 0 0 2 0\n",
      " 0 0 0 1 2 1 0 1 0 1 1 1 0 2 2 0 0 2 1 2 0 0 0 0 2 2 0 1 1 0 2 1 0 1 2 2 0\n",
      " 1 1 0 0 2 2 1 0 2 1 1 1 1 1 0 2 1 2 0 0 1 2 2 0 2 1 1 1 2 1 0 1 1 0 0 2 2\n",
      " 2 2 0 0 1 1 2 1 2 0 1 1 0 1 1 0 0 2 2 1 2 2 1 1 1 0 1 2 0 0 0 2 0 1 2 0 1\n",
      " 2 2 0 1 1 0 0 1 0 1 0 1 0 2 1 1 0 0 1 0 0 2 1 1 2 2 2 0 0 1 0 2 1 2 2 0 1\n",
      " 2 1 1 0 1 1 1 0 1 2 0 1 0]\n",
      "0.8952380952380953\n",
      "[[134   1   0]\n",
      " [ 18 115   4]\n",
      " [  7  14 127]]\n",
      "              precision    recall  f1-score   support\n",
      "\n",
      "           0       0.84      0.99      0.91       135\n",
      "           1       0.88      0.84      0.86       137\n",
      "           2       0.97      0.86      0.91       148\n",
      "\n",
      "    accuracy                           0.90       420\n",
      "   macro avg       0.90      0.90      0.89       420\n",
      "weighted avg       0.90      0.90      0.89       420\n",
      "\n"
     ]
    }
   ],
   "source": [
    "# 랜덤포레스트 학습\n",
    "clf_rf = RandomForestClassifier(max_depth=2, \n",
    "                                random_state=0)\n",
    "clf_rf.fit(X_tn, y_tn)\n",
    "\n",
    "# 예측\n",
    "pred_rf = clf_rf.predict(X_te)\n",
    "print(pred_rf)\n",
    "\n",
    "# 정확도\n",
    "accuracy = accuracy_score(y_te, pred_rf)\n",
    "print(accuracy)\n",
    "\n",
    "# confusion matrix 확인 \n",
    "conf_matrix = confusion_matrix(y_te, pred_rf)\n",
    "print(conf_matrix)\n",
    "\n",
    "# 분류 레포트 확인\n",
    "class_report = classification_report(y_te, pred_rf)\n",
    "print(class_report)"
   ]
  }
 ],
 "metadata": {
  "kernelspec": {
   "display_name": "Python 3.10.4 64-bit",
   "language": "python",
   "name": "python3"
  },
  "language_info": {
   "codemirror_mode": {
    "name": "ipython",
    "version": 3
   },
   "file_extension": ".py",
   "mimetype": "text/x-python",
   "name": "python",
   "nbconvert_exporter": "python",
   "pygments_lexer": "ipython3",
   "version": "3.10.4"
  },
  "orig_nbformat": 4,
  "vscode": {
   "interpreter": {
    "hash": "fb4569285eef3a3450cb62085a5b1e0da4bce0af555edc33dcf29baf3acc1368"
   }
  }
 },
 "nbformat": 4,
 "nbformat_minor": 2
}
